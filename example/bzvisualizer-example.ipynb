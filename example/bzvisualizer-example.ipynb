{
 "cells": [
  {
   "cell_type": "markdown",
   "id": "alpine-philip",
   "metadata": {},
   "source": [
    "## **A Jupyter widget to visualize the 1st Brillouin zone**\n",
    "\n",
    "<hr style=\"height:1px;border:none;color:#cccccc;background-color:#cccccc;\" />"
   ]
  },
  {
   "cell_type": "code",
   "execution_count": null,
   "id": "frank-reputation",
   "metadata": {},
   "outputs": [],
   "source": [
    "from widget_bzvisualizer import BZVisualizer\n",
    "import numpy as np\n",
    "from ase.dft.kpoints import *"
   ]
  },
  {
   "cell_type": "code",
   "execution_count": null,
   "id": "legendary-shower",
   "metadata": {},
   "outputs": [],
   "source": [
    "lattice = np.array([\n",
    "[0.000000,      2.020160,       2.020160],\n",
    "[2.020160,      0.000000,       2.020160],\n",
    "[2.020160,      2.020160,       0.000000]\n",
    "])"
   ]
  },
  {
   "cell_type": "code",
   "execution_count": null,
   "id": "mighty-devon",
   "metadata": {},
   "outputs": [],
   "source": [
    "w = BZVisualizer(lattice, [[0.0, 0.0, 0.0]], [13], True)\n",
    "display(w)"
   ]
  },
  {
   "cell_type": "code",
   "execution_count": null,
   "id": "stretch-animal",
   "metadata": {},
   "outputs": [],
   "source": []
  }
 ],
 "metadata": {
  "kernelspec": {
   "display_name": "Python 3 (ipykernel)",
   "language": "python",
   "name": "python3"
  },
  "language_info": {
   "codemirror_mode": {
    "name": "ipython",
    "version": 3
   },
   "file_extension": ".py",
   "mimetype": "text/x-python",
   "name": "python",
   "nbconvert_exporter": "python",
   "pygments_lexer": "ipython3",
   "version": "3.9.12"
  }
 },
 "nbformat": 4,
 "nbformat_minor": 5
}
