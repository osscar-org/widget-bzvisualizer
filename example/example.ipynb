{
 "cells": [
  {
   "cell_type": "code",
   "execution_count": 13,
   "metadata": {},
   "outputs": [
    {
     "name": "stdout",
     "output_type": "stream",
     "text": [
      "The autoreload extension is already loaded. To reload it, use:\n",
      "  %reload_ext autoreload\n",
      "env: ANYWIDGET_HMR=1\n"
     ]
    }
   ],
   "source": [
    "# This cell (autoloading & hot module replacement) is only needed for development!\n",
    "%load_ext autoreload\n",
    "%autoreload 2\n",
    "%env ANYWIDGET_HMR=1"
   ]
  },
  {
   "cell_type": "code",
   "execution_count": 14,
   "metadata": {},
   "outputs": [
    {
     "data": {
      "application/vnd.jupyter.widget-view+json": {
       "model_id": "067c689334a14910a7f11d529b60f922",
       "version_major": 2,
       "version_minor": 1
      },
      "text/plain": [
       "BZVisualizer(disable_interact_overlay=True, height='800px', seekpath_data={'faces_data': {'triangles_vertices'…"
      ]
     },
     "metadata": {},
     "output_type": "display_data"
    }
   ],
   "source": [
    "from widget_bzvisualizer import BZVisualizer\n",
    "\n",
    "cell = [\n",
    "    [5.0, 0.0, 0.0],\n",
    "    [0.0, 5.0, 0.0],\n",
    "    [0.0, 0.0, 5.0],\n",
    "]\n",
    "# atomic coordinates in terms of unit vectors\n",
    "rel_coords = [[0.0, 0.0, 0.0]]\n",
    "# element numbers of atoms\n",
    "atom_numbers = [6]\n",
    "\n",
    "bz = BZVisualizer(\n",
    "    cell, rel_coords, atom_numbers,\n",
    "    width=\"100%\", height=\"800px\",\n",
    "    show_axes=True,\n",
    "    show_bvectors=True,\n",
    "    show_pathpoints=True,\n",
    "    disable_interact_overlay=True,\n",
    ")\n",
    "display(bz)"
   ]
  },
  {
   "cell_type": "code",
   "execution_count": 15,
   "metadata": {},
   "outputs": [],
   "source": [
    "# update cell:\n",
    "bz.cell = [\n",
    "    [5.0, 0.0, 0.0],\n",
    "    [0.0, 1.0, 0.0],\n",
    "    [0.0, 0.0, 1.0],\n",
    "]"
   ]
  },
  {
   "cell_type": "code",
   "execution_count": 17,
   "metadata": {},
   "outputs": [
    {
     "data": {
      "application/vnd.jupyter.widget-view+json": {
       "model_id": "2acda8bf7ef946388c889d763521417b",
       "version_major": 2,
       "version_minor": 1
      },
      "text/plain": [
       "BZVisualizer(height='800px', seekpath_data={'faces_data': {'triangles_vertices': [[-1.1089190599406602, -2.220…"
      ]
     },
     "metadata": {},
     "output_type": "display_data"
    }
   ],
   "source": [
    "# Load info with ASE\n",
    "# NOTE: (ASE is not included as a direct dependency, needs to be installed separately)\n",
    "import ase.io\n",
    "\n",
    "def load_cell_info_ase(file):\n",
    "    \"\"\"Loads cell, relative positions and atom numbers from a CIF file\"\"\"\n",
    "    struct = ase.io.read(file)\n",
    "    return struct.cell, struct.get_scaled_positions(), struct.numbers\n",
    "\n",
    "cell, rel_coords, atom_numbers = load_cell_info_ase(\"./mc3d-10016.cif\")\n",
    "bz2 = BZVisualizer(cell, rel_coords, atom_numbers, width=\"100%\", height=\"800px\")\n",
    "display(bz2)"
   ]
  },
  {
   "cell_type": "code",
   "execution_count": null,
   "metadata": {},
   "outputs": [],
   "source": []
  },
  {
   "cell_type": "code",
   "execution_count": null,
   "metadata": {},
   "outputs": [],
   "source": []
  }
 ],
 "metadata": {
  "kernelspec": {
   "display_name": "Python 3 (ipykernel)",
   "language": "python",
   "name": "python3"
  },
  "language_info": {
   "codemirror_mode": {
    "name": "ipython",
    "version": 3
   },
   "file_extension": ".py",
   "mimetype": "text/x-python",
   "name": "python",
   "nbconvert_exporter": "python",
   "pygments_lexer": "ipython3",
   "version": "3.11.7"
  }
 },
 "nbformat": 4,
 "nbformat_minor": 4
}
