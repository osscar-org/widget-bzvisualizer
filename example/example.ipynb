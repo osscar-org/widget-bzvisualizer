{
 "cells": [
  {
   "cell_type": "code",
   "execution_count": null,
   "metadata": {},
   "outputs": [],
   "source": [
    "# This cell (autoloading & hot module replacement) is only needed for development!\n",
    "%load_ext autoreload\n",
    "%autoreload 2\n",
    "%env ANYWIDGET_HMR=1"
   ]
  },
  {
   "cell_type": "code",
   "execution_count": null,
   "metadata": {},
   "outputs": [],
   "source": [
    "from widget_bzvisualizer import BZVisualizer\n",
    "\n",
    "cell = [\n",
    "    [5.0, 0.0, 0.0],\n",
    "    [0.0, 5.0, 0.0],\n",
    "    [0.0, 0.0, 5.0],\n",
    "]\n",
    "# atomic coordinates in terms of unit vectors\n",
    "rel_coords = [[0.0, 0.0, 0.0]]\n",
    "# element numbers of atoms\n",
    "atom_numbers = [6]\n",
    "\n",
    "bz = BZVisualizer(\n",
    "    cell, rel_coords, atom_numbers,\n",
    "    width=\"100%\", height=\"800px\",\n",
    "    show_axes=True,\n",
    "    show_bvectors=True,\n",
    "    show_pathpoints=True,\n",
    "    disable_interact_overlay=True,\n",
    ")\n",
    "display(bz)"
   ]
  },
  {
   "cell_type": "code",
   "execution_count": null,
   "metadata": {},
   "outputs": [],
   "source": [
    "# update cell:\n",
    "bz.cell = [\n",
    "    [5.0, 0.0, 0.0],\n",
    "    [0.0, 1.0, 0.0],\n",
    "    [0.0, 0.0, 1.0],\n",
    "]"
   ]
  },
  {
   "cell_type": "code",
   "execution_count": null,
   "metadata": {},
   "outputs": [],
   "source": [
    "# Load info with ASE\n",
    "# NOTE: (ASE is not included as a direct dependency, needs to be installed separately)\n",
    "import ase.io\n",
    "\n",
    "def load_cell_info_ase(file):\n",
    "    \"\"\"Loads cell, relative positions and atom numbers from a CIF file\"\"\"\n",
    "    struct = ase.io.read(file)\n",
    "    return struct.cell, struct.get_scaled_positions(), struct.numbers\n",
    "\n",
    "cell, rel_coords, atom_numbers = load_cell_info_ase(\"./mc3d-10016.cif\")\n",
    "bz2 = BZVisualizer(cell, rel_coords, atom_numbers, width=\"100%\", height=\"800px\")\n",
    "display(bz2)"
   ]
  },
  {
   "cell_type": "code",
   "execution_count": null,
   "metadata": {},
   "outputs": [],
   "source": []
  }
 ],
 "metadata": {
  "kernelspec": {
   "display_name": "Python 3 (ipykernel)",
   "language": "python",
   "name": "python3"
  },
  "language_info": {
   "codemirror_mode": {
    "name": "ipython",
    "version": 3
   },
   "file_extension": ".py",
   "mimetype": "text/x-python",
   "name": "python",
   "nbconvert_exporter": "python",
   "pygments_lexer": "ipython3",
   "version": "3.11.7"
  }
 },
 "nbformat": 4,
 "nbformat_minor": 4
}
