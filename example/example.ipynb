{
	"cells": [
		{
			"cell_type": "code",
			"execution_count": null,
			"metadata": {},
			"outputs": [],
			"source": [
				"%load_ext autoreload\n",
				"%autoreload 2\n",
				"%env ANYWIDGET_HMR=1"
			]
		},
		{
			"cell_type": "code",
			"execution_count": null,
			"metadata": {},
			"outputs": [],
			"source": [
				"from widget_bzvisualizer import BZVisualizer\n",
				"import ase.io\n",
				"\n",
				"def load_cif_cell_info(cif):\n",
				"    \"\"\"Loads cell, relative positions and atom numbers from a CIF file\"\"\"\n",
				"    struct = ase.io.read(cif)\n",
				"    return struct.cell, struct.get_scaled_positions(), struct.numbers"
			]
		},
		{
			"cell_type": "code",
			"execution_count": null,
			"metadata": {},
			"outputs": [],
			"source": [
				"cell, rel_coords, atom_numbers = load_cif_cell_info(\"./mc3d-10.cif\")\n",
				"bz = BZVisualizer(cell, rel_coords, atom_numbers)\n",
				"bz"
			]
		},
		{
			"cell_type": "code",
			"execution_count": null,
			"metadata": {},
			"outputs": [],
			"source": [
				"cell, rel_coords, atom_numbers = load_cif_cell_info(\"./mc3d-10016.cif\")\n",
				"bz = BZVisualizer(cell, rel_coords, atom_numbers, width=\"300px\", height=\"300px\")\n",
				"bz"
			]
		},
		{
			"cell_type": "markdown",
			"metadata": {},
			"source": []
		}
	],
	"metadata": {
		"kernelspec": {
			"display_name": "Python 3",
			"language": "python",
			"name": "python3"
		},
		"language_info": {
			"codemirror_mode": {
				"name": "ipython",
				"version": 3
			},
			"file_extension": ".py",
			"mimetype": "text/x-python",
			"name": "python",
			"nbconvert_exporter": "python",
			"pygments_lexer": "ipython3",
			"version": "3.10.0"
		}
	},
	"nbformat": 4,
	"nbformat_minor": 2
}
